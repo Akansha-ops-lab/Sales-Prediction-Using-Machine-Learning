
# Exploratory Analysis Notebook
import pandas as pd
import matplotlib.pyplot as plt
import seaborn as sns

# Load cleaned data
data = pd.read_csv('../data/cleaned_sales_data.csv')

# Plot sales by month
plt.figure(figsize=(10, 6))
sns.barplot(x='Month', y='Sales', data=data, ci=None)
plt.title('Monthly Sales')
plt.show()
