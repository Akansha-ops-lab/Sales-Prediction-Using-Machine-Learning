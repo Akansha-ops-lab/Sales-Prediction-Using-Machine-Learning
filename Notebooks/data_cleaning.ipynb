
# Data Cleaning Notebook
import pandas as pd

# Load raw data
data = pd.read_csv('../data/raw_sales_data.csv')

# Clean the data
data['Price'] = data['Price'].fillna(data['Price'].median())
data['Region'] = data['Region'].fillna('Unknown')
data['Sales'] = data['Sales'].fillna(data['Sales'].median())

# Save cleaned data
data.to_csv('../data/cleaned_sales_data.csv', index=False)
print("Data cleaned and saved.")
